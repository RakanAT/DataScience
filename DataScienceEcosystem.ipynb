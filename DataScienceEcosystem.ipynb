{
 "cells": [
  {
   "cell_type": "markdown",
   "id": "cde15705",
   "metadata": {},
   "source": [
    "<center>\n",
    "    <img src=\"https://cf-courses-data.s3.us.cloud-object-storage.appdomain.cloud/IBMDeveloperSkillsNetwork-DS0105EN-SkillsNetwork/labs/Module2/images/SN_web_lightmode.png\" width=\"300\" alt=\"cognitiveclass.ai logo\">\n",
    "</center>"
   ]
  },
  {
   "cell_type": "markdown",
   "id": "626b7c97",
   "metadata": {},
   "source": [
    "#### Add your code below following the instructions given in the course"
   ]
  },
  {
   "cell_type": "markdown",
   "id": "7cd80fcc",
   "metadata": {},
   "source": [
    "# Data Science Tools and Ecosystem"
   ]
  },
  {
   "cell_type": "markdown",
   "id": "c6629c9c",
   "metadata": {},
   "source": [
    "The purpose of this notebook is to summarize various data science tools and ecosystems."
   ]
  },
  {
   "cell_type": "markdown",
   "id": "ae0ae820",
   "metadata": {},
   "source": [
    "**Objectives:**\n",
    "- Utilize various heading sizes in markdown cells\n",
    "- Use ordered and unordered lists in markdown cells\n",
    "- Create a table in markdown cells\n",
    "- Execute code cells"
   ]
  },
  {
   "cell_type": "markdown",
   "id": "e098811e",
   "metadata": {},
   "source": [
    "Programming languages are an essential tool for every data scientist to utilize. Learning various languages help improve a data scientists versatility, efficiency, and capabilities to process data. Below are some of the popular languages taht data scientists use:\n",
    "1. Python\n",
    "2. R\n",
    "3. SQL\n",
    "4. Javascript\n",
    "5. Scala"
   ]
  },
  {
   "cell_type": "markdown",
   "id": "add0e428",
   "metadata": {},
   "source": [
    "In addition to learning various languages to access and utilize a plethora of programs, data scientists must build upon and take advantage of existing functions and additional tools within a programming language. This introducees the concept of libraries. Libraries are collections of objects and fucntions that can be accessed and imported to utilize in your code. Here are some popular libraries that are used:\n",
    "1. NumPy\n",
    "2. Pandas\n",
    "3. ggplot\n",
    "4. Plotly\n",
    "5. cerat\n",
    "6. PyTorch"
   ]
  },
  {
   "cell_type": "markdown",
   "id": "9b843685",
   "metadata": {},
   "source": [
    "|Data Science Tools|\n",
    "|-----|\n",
    "|Visual Studio Code|\n",
    "|Jupyter Notebooks|\n",
    "|R Studio|\n",
    "|IBM Watson|"
   ]
  },
  {
   "cell_type": "markdown",
   "id": "64ceadf9",
   "metadata": {},
   "source": [
    "### Here are a few examples of arithmetic expression evaluation in Python"
   ]
  },
  {
   "cell_type": "code",
   "execution_count": 6,
   "id": "f1ce1e19",
   "metadata": {},
   "outputs": [
    {
     "data": {
      "text/plain": [
       "17"
      ]
     },
     "execution_count": 6,
     "metadata": {},
     "output_type": "execute_result"
    }
   ],
   "source": [
    "#This is a simple arithmetic expression to multiply then add integers\n",
    "(3*4)+5"
   ]
  },
  {
   "cell_type": "code",
   "execution_count": 7,
   "id": "e94a34a9",
   "metadata": {},
   "outputs": [
    {
     "data": {
      "text/plain": [
       "3.3333333333333335"
      ]
     },
     "execution_count": 7,
     "metadata": {},
     "output_type": "execute_result"
    }
   ],
   "source": [
    "200/60\n",
    "#the above code will convert 200 minutes to hours by dividing by 60"
   ]
  },
  {
   "cell_type": "markdown",
   "id": "f846db3e",
   "metadata": {},
   "source": [
    "## Author\n",
    "Rakan Al Tamimi"
   ]
  }
 ],
 "metadata": {
  "kernelspec": {
   "display_name": "Python 3 (ipykernel)",
   "language": "python",
   "name": "python3"
  },
  "language_info": {
   "codemirror_mode": {
    "name": "ipython",
    "version": 3
   },
   "file_extension": ".py",
   "mimetype": "text/x-python",
   "name": "python",
   "nbconvert_exporter": "python",
   "pygments_lexer": "ipython3",
   "version": "3.11.5"
  }
 },
 "nbformat": 4,
 "nbformat_minor": 5
}
